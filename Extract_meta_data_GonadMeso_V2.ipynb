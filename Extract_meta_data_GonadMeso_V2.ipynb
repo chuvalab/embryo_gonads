{
 "cells": [
  {
   "cell_type": "markdown",
   "metadata": {},
   "source": [
    "# Extracting meta-data from Seurat object for Anndata object creation"
   ]
  },
  {
   "cell_type": "markdown",
   "metadata": {},
   "source": [
    "### Load packages"
   ]
  },
  {
   "cell_type": "code",
   "execution_count": 1,
   "metadata": {},
   "outputs": [
    {
     "name": "stderr",
     "output_type": "stream",
     "text": [
      "Attaching SeuratObject\n",
      "\n",
      "Attaching sp\n",
      "\n"
     ]
    }
   ],
   "source": [
    "library(Seurat)"
   ]
  },
  {
   "cell_type": "code",
   "execution_count": null,
   "metadata": {},
   "outputs": [],
   "source": []
  },
  {
   "cell_type": "code",
   "execution_count": 24,
   "metadata": {},
   "outputs": [],
   "source": [
    "NAME <- 'GonadMeso_male_all'\n",
    "VERSION <- 'v2'"
   ]
  },
  {
   "cell_type": "code",
   "execution_count": 14,
   "metadata": {},
   "outputs": [],
   "source": [
    "myobj <- readRDS(\"./datasets/GonadMeso/male_gonadal_remove_doublets_mnn.rds\")"
   ]
  },
  {
   "cell_type": "code",
   "execution_count": 15,
   "metadata": {},
   "outputs": [],
   "source": [
    "OUTPUT_DIR <- paste0(\"./meta_data/\",NAME)\n",
    "dir.create(OUTPUT_DIR)"
   ]
  },
  {
   "cell_type": "markdown",
   "metadata": {},
   "source": [
    "#### Filtered cell id's"
   ]
  },
  {
   "cell_type": "code",
   "execution_count": 16,
   "metadata": {},
   "outputs": [],
   "source": [
    "write.csv(\n",
    "    Cells(myobj), \n",
    "    file=paste0(OUTPUT_DIR, \"/\", NAME, \"_\", VERSION, \"_cellID_obs.csv\"), \n",
    "    row.names=FALSE\n",
    ")"
   ]
  },
  {
   "cell_type": "markdown",
   "metadata": {},
   "source": [
    "#### UMAP"
   ]
  },
  {
   "cell_type": "code",
   "execution_count": 17,
   "metadata": {},
   "outputs": [],
   "source": [
    "write.csv(\n",
    "    Embeddings(myobj, reduction=\"umap\"), \n",
    "    file=paste0(OUTPUT_DIR, \"/\", NAME, \"_\", VERSION, \"_cell_embeddings.csv\")\n",
    ")"
   ]
  },
  {
   "cell_type": "markdown",
   "metadata": {},
   "source": [
    "#### Clusters"
   ]
  },
  {
   "cell_type": "code",
   "execution_count": 18,
   "metadata": {},
   "outputs": [],
   "source": [
    "write.csv(\n",
    "    myobj@meta.data$seurat_clusters, \n",
    "    file=paste0(OUTPUT_DIR, \"/\", NAME, \"_\", VERSION, \"_clusters.csv\")\n",
    ")"
   ]
  },
  {
   "cell_type": "code",
   "execution_count": 19,
   "metadata": {},
   "outputs": [],
   "source": [
    "clusters <- myobj@meta.data"
   ]
  },
  {
   "cell_type": "code",
   "execution_count": 20,
   "metadata": {},
   "outputs": [],
   "source": [
    "clusters['cell_name'] <- rownames(clusters)"
   ]
  },
  {
   "cell_type": "code",
   "execution_count": 21,
   "metadata": {},
   "outputs": [],
   "source": [
    "write.csv(\n",
    "    clusters[,c('cell_name', 'seurat_clusters')], \n",
    "    file=paste0(OUTPUT_DIR, \"/\", NAME, \"_\", VERSION, \"_clusters.csv\"),\n",
    "    row.names=FALSE\n",
    ")"
   ]
  },
  {
   "cell_type": "markdown",
   "metadata": {},
   "source": [
    "### Cluster colors"
   ]
  },
  {
   "cell_type": "code",
   "execution_count": 22,
   "metadata": {},
   "outputs": [],
   "source": [
    "p <- Seurat::DimPlot(myobj, reduction=\"umap\")\n",
    "pbuild <- ggplot2::ggplot_build(p) \n",
    "pdata <- pbuild$data[[1]]\n",
    "cell_col <- pdata$colour\n",
    "\n",
    "colors <- myobj@meta.data\n",
    "colors['cell_name'] <- rownames(colors)\n",
    "colors['color'] <- cell_col\n",
    "# saveRDS(cell.col, file=file.path(OUTPUT_DIR, paste0(base_name, \"_\", ASSAY, \".cell.col.rds\")))"
   ]
  },
  {
   "cell_type": "code",
   "execution_count": 23,
   "metadata": {},
   "outputs": [],
   "source": [
    "write.csv(\n",
    "    colors[,c('cell_name', 'color')], \n",
    "    file=paste0(OUTPUT_DIR, \"/\", NAME, \"_\", VERSION, \"_clusters_colors.csv\"),\n",
    "    row.names=FALSE\n",
    ")"
   ]
  },
  {
   "cell_type": "markdown",
   "metadata": {},
   "source": [
    "### END"
   ]
  },
  {
   "cell_type": "code",
   "execution_count": null,
   "metadata": {},
   "outputs": [],
   "source": []
  }
 ],
 "metadata": {
  "kernelspec": {
   "display_name": "R 4.2.0",
   "language": "R",
   "name": "ir4.2.0"
  },
  "language_info": {
   "codemirror_mode": "r",
   "file_extension": ".r",
   "mimetype": "text/x-r-source",
   "name": "R",
   "pygments_lexer": "r",
   "version": "4.2.0"
  }
 },
 "nbformat": 4,
 "nbformat_minor": 4
}
